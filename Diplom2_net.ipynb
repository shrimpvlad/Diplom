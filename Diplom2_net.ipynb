{
 "cells": [
  {
   "cell_type": "markdown",
   "id": "53df3b3d",
   "metadata": {},
   "source": [
    "### Model \n"
   ]
  },
  {
   "cell_type": "code",
   "execution_count": 1,
   "id": "3621911e",
   "metadata": {},
   "outputs": [],
   "source": [
    "import numpy as np\n",
    "import pandas as pd\n",
    "\n",
    "import matplotlib.pyplot as plt\n",
    "from matplotlib.pyplot import figure\n",
    "from tqdm import tqdm\n",
    "\n",
    "import sklearn.preprocessing\n",
    "import torch\n",
    "import torch.nn as nn\n",
    "import torch.nn.functional as F\n",
    "import os\n",
    "from torch.utils.data import Dataset, DataLoader\n",
    "from torch.utils.tensorboard import SummaryWriter\n"
   ]
  },
  {
   "cell_type": "code",
   "execution_count": 2,
   "id": "1fc87b8b",
   "metadata": {},
   "outputs": [],
   "source": [
    "class Model(nn.Module):\n",
    "    def __init__(self):\n",
    "        size = 128\n",
    "        super().__init__()\n",
    "#         self.fc1 = nn.Linear(6, size)\n",
    "        self.lstm1 = nn.LSTM(input_size=6, hidden_size=size, bidirectional=True)\n",
    "        self.drop1 = nn.Dropout(p=0.25)\n",
    "        self.lstm2 = nn.LSTM(input_size=size*2, hidden_size=size*2, bidirectional=True)\n",
    "        self.drop2 = nn.Dropout(p=0.25)\n",
    "        self.fc2 = nn.Linear(size*4, 2)\n",
    "\n",
    "                    \n",
    "    def forward(self, x):\n",
    "#         x = self.fc1(x)\n",
    "#         x = F.relu(x)\n",
    "        x, _ = self.lstm1(x)\n",
    "        x = self.drop1(x)\n",
    "        x, _ = self.lstm2(x)\n",
    "        x = self.drop2(x)\n",
    "        x = self.fc2(x[:, -1, :])\n",
    "\n",
    "        return x"
   ]
  },
  {
   "cell_type": "markdown",
   "id": "6beded61",
   "metadata": {},
   "source": [
    "### Dataset"
   ]
  },
  {
   "cell_type": "code",
   "execution_count": 3,
   "id": "e1c3bc67",
   "metadata": {},
   "outputs": [],
   "source": [
    "import os\n",
    "import pandas as pd\n",
    "from torch.utils.data import Dataset\n",
    "\n",
    "train_target_list = [\n",
    "#     \"IMU_1.csv\", \"IMU_2.csv\", \"IMU_3.csv\",\n",
    "#     \"IMU_4.csv\", \"IMU_5.csv\", \"IMU_6.csv\", \n",
    "#     \"IMU_7.csv\",\"IMU_8.csv\", \"IMU_9.csv\", \"IMU_10.csv\",\n",
    "#     'IMU_ronin_02.csv',\n",
    "#     'IMU_ronin_11.csv','IMU_ronin_21.csv','IMU_ronin_31.csv',\n",
    "#     'IMU_ronin_42.csv','IMU_ronin_51.csv','IMU_ronin_72.csv',\n",
    "#     'IMU_ronin_92.csv','IMU_ronin_93.csv','IMU_ronin_101.csv',\n",
    "#     'IMU_ronin_121.csv','IMU_ronin_152.csv','IMU_ronin_183.csv',\n",
    "#     'IMU_ronin_201.csv','IMU_ronin_251.csv','IMU_ronin_263.csv',\n",
    "#     'IMU_ronin_03.csv','IMU_ronin_04.csv', 'IMU_ronin_05.csv',\n",
    "#     'IMU_ronin_06.csv','IMU_ronin_08.csv','IMU_ronin_09.csv','IMU_ronin_010.csv',\n",
    "#     'IMU_ronin_13.csv','IMU_ronin_22.csv','IMU_ronin_32.csv','IMU_ronin_103.csv',\n",
    "#     'IMU_ronin_113.csv','IMU_ronin_123.csv','IMU_ronin_131.csv','IMU_ronin_133.csv',\n",
    "#     'IMU_ronin_141.csv','IMU_ronin_143.csv','IMU_ronin_151.csv','IMU_ronin_153.csv',\n",
    "#     'IMU_ronin_163.csv','IMU_ronin_171.csv','IMU_ronin_203.csv','IMU_ronin_211.csv',\n",
    "#     'IMU_ronin_223.csv','IMU_ronin_232.csv'\n",
    "    \n",
    "    \"IMU_1.csv\", \"IMU_2.csv\", \"IMU_3.csv\", \"IMU_4.csv\", \"IMU_5.csv\",\n",
    "    \"IMU_6.csv\", \"IMU_7.csv\",\n",
    "    \"IMU_8.csv\",\n",
    "    \"IMU_9.csv\", \"IMU_10.csv\", \n",
    "    \"IMU_11.csv\", \"IMU_12.csv\", \"IMU_13.csv\", \"IMU_14.csv\", \"IMU_15.csv\",\n",
    "    \"IMU_16.csv\", \"IMU_17.csv\", \"IMU_18.csv\", \"IMU_19.csv\", \"IMU_20.csv\", \n",
    "    \"IMU_21.csv\", \"IMU_22.csv\", \"IMU_23.csv\", \"IMU_24.csv\", \n",
    "    \n",
    "#     \"IMU_25.csv\", \n",
    "    \"IMU_26.csv\", \"IMU_27.csv\", \"IMU_28.csv\",\n",
    "    \"IMU_29.csv\", \"IMU_30.csv\",\n",
    "    \"IMU_31.csv\", \"IMU_32.csv\", \"IMU_33.csv\", \"IMU_34.csv\", \"IMU_35.csv\", \n",
    "    \"IMU_36.csv\", \"IMU_37.csv\", \"IMU_38.csv\", \n",
    "    \"IMU_39.csv\", \n",
    "    \"IMU_40.csv\",\n",
    "    \"IMU_41.csv\", \"IMU_42.csv\", \"IMU_43.csv\", \"IMU_44.csv\", \"IMU_45.csv\", \n",
    "    \"IMU_46.csv\", \"IMU_47.csv\", \"IMU_48.csv\", \"IMU_49.csv\", \"IMU_50.csv\",\n",
    "#     \"IMU_51.csv\", \"IMU_52.csv\", \"IMU_53.csv\", \"IMU_54.csv\", \"IMU_55.csv\", \n",
    "#     \"IMU_56.csv\", \"IMU_57.csv\", \"IMU_58.csv\", \"IMU_59.csv\", \"IMU_60.csv\",\n",
    "#     \"IMU_61.csv\", \"IMU_62.csv\", \"IMU_63.csv\", \"IMU_64.csv\", \"IMU_65.csv\", \n",
    "#     \"IMU_66.csv\", \"IMU_67.csv\", \"IMU_68.csv\", \"IMU_69.csv\", \"IMU_70.csv\",\n",
    "#     \"IMU_71.csv\"\n",
    "]\n",
    "train_features_list = [\n",
    "#     [\"n_imu1.csv\"], [\"n_imu2.csv\"], [\"n_imu3.csv\"], [\"n_imu4.csv\"],\n",
    "#     [\"n_imu5.csv\"], [\"n_imu6.csv\"], \n",
    "#     [\"n_imu7.csv\"], [\"n_imu8.csv\"],[\"n_imu9.csv\"], [\"n_imu10.csv\"],\n",
    "#     [\"acc_gyro_ronin_02.csv\"],[\"acc_gyro_ronin_11.csv\"],\n",
    "#     [\"acc_gyro_ronin_21.csv\"],[\"acc_gyro_ronin_31.csv\"],[\"acc_gyro_ronin_42.csv\"],\n",
    "#     [\"acc_gyro_ronin_51.csv\"],[\"acc_gyro_ronin_72.csv\"],[\"acc_gyro_ronin_92.csv\"],\n",
    "#     [\"acc_gyro_ronin_93.csv\"],[\"acc_gyro_ronin_101.csv\"],[\"acc_gyro_ronin_121.csv\"],\n",
    "#     [\"acc_gyro_ronin_152.csv\"],[\"acc_gyro_ronin_183.csv\"],[\"acc_gyro_ronin_201.csv\"],\n",
    "#     [\"acc_gyro_ronin_251.csv\"],[\"acc_gyro_ronin_263.csv\"],\n",
    "#     ['acc_gyro_ronin_03.csv'],['acc_gyro_ronin_04.csv'], ['acc_gyro_ronin_05.csv'],\n",
    "#     ['acc_gyro_ronin_06.csv'],['acc_gyro_ronin_08.csv'],['acc_gyro_ronin_09.csv'],['acc_gyro_ronin_010.csv'],\n",
    "#     ['acc_gyro_ronin_13.csv'],['acc_gyro_ronin_22.csv'],['acc_gyro_ronin_32.csv'],['acc_gyro_ronin_103.csv'],\n",
    "#     ['acc_gyro_ronin_113.csv'],['acc_gyro_ronin_123.csv'],['acc_gyro_ronin_131.csv'],['acc_gyro_ronin_133.csv'],\n",
    "#     ['acc_gyro_ronin_141.csv'],['acc_gyro_ronin_143.csv'],['acc_gyro_ronin_151.csv'],['acc_gyro_ronin_153.csv'],\n",
    "#     ['acc_gyro_ronin_163.csv'],['acc_gyro_ronin_171.csv'],['acc_gyro_ronin_203.csv'],['acc_gyro_ronin_211.csv'],\n",
    "#     ['acc_gyro_ronin_223.csv'],['acc_gyro_ronin_232.csv']\n",
    "    \n",
    "    [\"n_imu1.csv\"], [\"n_imu2.csv\"], [\"n_imu3.csv\"], [\"n_imu4.csv\"],[\"n_imu5.csv\"],\n",
    "    [\"n_imu6.csv\"], [\"n_imu7.csv\"], \n",
    "    [\"n_imu8.csv\"],\n",
    "    [\"n_imu9.csv\"],[\"n_imu10.csv\"],\n",
    "    [\"n_imu11.csv\"], [\"n_imu12.csv\"], [\"n_imu13.csv\"], [\"n_imu14.csv\"],[\"n_imu15.csv\"],\n",
    "    [\"n_imu16.csv\"], [\"n_imu17.csv\"], [\"n_imu18.csv\"], [\"n_imu19.csv\"],[\"n_imu20.csv\"],\n",
    "    [\"n_imu21.csv\"], [\"n_imu22.csv\"], [\"n_imu23.csv\"], [\"n_imu24.csv\"],\n",
    "    \n",
    "#     [\"n_imu25.csv\"],\n",
    "    [\"n_imu26.csv\"], [\"n_imu27.csv\"], [\"n_imu28.csv\"],\n",
    "    [\"n_imu29.csv\"],[\"n_imu30.csv\"],\n",
    "    [\"n_imu31.csv\"], [\"n_imu32.csv\"], [\"n_imu33.csv\"], [\"n_imu34.csv\"],[\"n_imu35.csv\"],\n",
    "    \n",
    "    [\"n_imu36.csv\"], [\"n_imu37.csv\"], [\"n_imu38.csv\"], \n",
    "    [\"n_imu39.csv\"],\n",
    "    [\"n_imu40.csv\"],\n",
    "    [\"n_imu41.csv\"], [\"n_imu42.csv\"], [\"n_imu43.csv\"], [\"n_imu44.csv\"],[\"n_imu45.csv\"],\n",
    "    [\"n_imu46.csv\"], [\"n_imu47.csv\"], [\"n_imu48.csv\"], [\"n_imu49.csv\"],[\"n_imu50.csv\"],\n",
    "#     [\"n_imu51.csv\"], [\"n_imu52.csv\"], [\"n_imu53.csv\"], [\"n_imu54.csv\"],[\"n_imu55.csv\"],\n",
    "#     [\"n_imu56.csv\"], [\"n_imu57.csv\"], [\"n_imu58.csv\"], [\"n_imu59.csv\"],[\"n_imu60.csv\"],\n",
    "#     [\"n_imu61.csv\"], [\"n_imu62.csv\"], [\"n_imu63.csv\"], [\"n_imu64.csv\"],[\"n_imu65.csv\"],\n",
    "#     [\"n_imu66.csv\"], [\"n_imu67.csv\"], [\"n_imu68.csv\"], [\"n_imu69.csv\"],[\"n_imu70.csv\"],\n",
    "#     [\"n_imu71.csv\"]\n",
    "]\n",
    "\n",
    "test_target_list = [\"IMU_25.csv\"]\n",
    "test_features_list = [[\"n_imu25.csv\"]]\n",
    "\n",
    "\n",
    "class TESNamesDataset(Dataset):\n",
    "    def __init__(self, target_list, features_list):\n",
    "        self.target_list = target_list\n",
    "        self.features_list = features_list\n",
    "    \n",
    "        self.dataset = pd.DataFrame()\n",
    "\n",
    "        for i in range(len(self.features_list)):\n",
    "            y = pd.read_csv(f'./data2/{self.target_list[i]}', header=None, names=['delta_l', 'delta_phi'])\n",
    "            y['idx'] = range(y.shape[0])\n",
    "            for feature_table_name in self.features_list[i]:\n",
    "                X = pd.read_csv(f'./data2/{feature_table_name}', header=None, names=[f'x_{j}' for j in range(1,7)])\n",
    "                X['idx'] = [item for idx in range(y.shape[0]) for item in [idx]*200]\n",
    "                df = X.merge(y, on='idx')\n",
    "                self.dataset = pd.concat([self.dataset, df])\n",
    "\n",
    "        # calculating number of objects\n",
    "        self.number_of_objects = self.dataset.shape[0] // 200\n",
    "        \n",
    "        # saving elements into array\n",
    "        self.data = []\n",
    "        for i in tqdm(range(self.number_of_objects)):\n",
    "            obj = self.dataset.iloc[i*200:(i+1)*200]\n",
    "            self.data += [(\n",
    "                torch.from_numpy(obj[[f'x_{j}' for j in range(1,7)]].values).float(),\n",
    "                torch.from_numpy(obj[['delta_l', 'delta_phi']].iloc[0].values).float()    \n",
    "            )]\n",
    "        \n",
    "        # Delete memory consuming dataset        \n",
    "        del self.dataset\n",
    "\n",
    "    def __len__(self):\n",
    "        return self.number_of_objects\n",
    "\n",
    "    def __getitem__(self, idx):\n",
    "        return self.data[idx]"
   ]
  },
  {
   "cell_type": "markdown",
   "id": "1d1981e0",
   "metadata": {},
   "source": [
    "#### Training with TensorBoard"
   ]
  },
  {
   "cell_type": "code",
   "execution_count": 4,
   "id": "9e30efaf",
   "metadata": {},
   "outputs": [],
   "source": [
    "def my_loss(output, target):\n",
    "    loss = torch.mean((target[:, 0] - output[:, 0])**2 + 4 * (target[:, 1] - output[:, 1])**2)\n",
    "    return loss\n",
    "\n",
    "def calculate_test_error(model, dataloader):\n",
    "    num_batches = len(dataloader)\n",
    "    test_loss = 0\n",
    "\n",
    "    with torch.no_grad():\n",
    "        for X, y in dataloader:\n",
    "            \n",
    "            # send X,y to GPU (or CPU if GPU is not availiable)     \n",
    "            X, y = X.to(device), y.to(device)\n",
    "            pred = model(X)\n",
    "            test_loss += my_loss(pred, y).item()\n",
    "    return test_loss / num_batches"
   ]
  },
  {
   "cell_type": "code",
   "execution_count": 5,
   "id": "dc2940c9",
   "metadata": {},
   "outputs": [
    {
     "name": "stderr",
     "output_type": "stream",
     "text": [
      "100%|██████████| 220022/220022 [04:14<00:00, 865.10it/s]\n",
      "100%|██████████| 3282/3282 [00:04<00:00, 737.28it/s]\n"
     ]
    }
   ],
   "source": [
    "learning_rate = 1e-4\n",
    "batch_size = 100\n",
    "epochs = 33\n",
    "\n",
    "device = torch.device(\"cuda\" if torch.cuda.is_available() else \"cpu\")\n",
    "lstm = Model().float().to(device)\n",
    "\n",
    "train_data = TESNamesDataset(train_target_list, train_features_list)\n",
    "test_data = TESNamesDataset(test_target_list, test_features_list)\n",
    "\n",
    "train_dataloader = DataLoader(train_data, batch_size=batch_size, shuffle=True)\n",
    "test_dataloader = DataLoader(test_data, batch_size=batch_size, shuffle=False)\n",
    "\n",
    "\n",
    "optimizer = torch.optim.Adam(lstm.parameters(), lr=learning_rate)"
   ]
  },
  {
   "cell_type": "code",
   "execution_count": 6,
   "id": "5bae5aea",
   "metadata": {
    "scrolled": true
   },
   "outputs": [
    {
     "name": "stderr",
     "output_type": "stream",
     "text": [
      "\r",
      "0it [00:00, ?it/s]"
     ]
    },
    {
     "name": "stdout",
     "output_type": "stream",
     "text": [
      "Current epoch = 0\r"
     ]
    },
    {
     "name": "stderr",
     "output_type": "stream",
     "text": [
      "2201it [04:04,  8.99it/s]\n",
      "0it [00:00, ?it/s]"
     ]
    },
    {
     "name": "stdout",
     "output_type": "stream",
     "text": [
      "Current epoch = 1\r"
     ]
    },
    {
     "name": "stderr",
     "output_type": "stream",
     "text": [
      "2201it [05:36,  6.53it/s]\n",
      "1it [00:00,  6.60it/s]"
     ]
    },
    {
     "name": "stdout",
     "output_type": "stream",
     "text": [
      "Current epoch = 2\r"
     ]
    },
    {
     "name": "stderr",
     "output_type": "stream",
     "text": [
      "2201it [05:47,  6.33it/s]\n",
      "1it [00:00,  6.87it/s]"
     ]
    },
    {
     "name": "stdout",
     "output_type": "stream",
     "text": [
      "Current epoch = 3\r"
     ]
    },
    {
     "name": "stderr",
     "output_type": "stream",
     "text": [
      "2201it [05:30,  6.67it/s]\n",
      "1it [00:00,  7.48it/s]"
     ]
    },
    {
     "name": "stdout",
     "output_type": "stream",
     "text": [
      "Current epoch = 4\r"
     ]
    },
    {
     "name": "stderr",
     "output_type": "stream",
     "text": [
      "2201it [04:48,  7.63it/s]\n",
      "1it [00:00,  7.90it/s]"
     ]
    },
    {
     "name": "stdout",
     "output_type": "stream",
     "text": [
      "Current epoch = 5\r"
     ]
    },
    {
     "name": "stderr",
     "output_type": "stream",
     "text": [
      "2201it [04:45,  7.70it/s]\n",
      "1it [00:00,  8.64it/s]"
     ]
    },
    {
     "name": "stdout",
     "output_type": "stream",
     "text": [
      "Current epoch = 6\r"
     ]
    },
    {
     "name": "stderr",
     "output_type": "stream",
     "text": [
      "2201it [04:38,  7.89it/s]\n",
      "1it [00:00,  8.02it/s]"
     ]
    },
    {
     "name": "stdout",
     "output_type": "stream",
     "text": [
      "Current epoch = 7\r"
     ]
    },
    {
     "name": "stderr",
     "output_type": "stream",
     "text": [
      "2201it [04:34,  8.01it/s]\n",
      "1it [00:00,  7.32it/s]"
     ]
    },
    {
     "name": "stdout",
     "output_type": "stream",
     "text": [
      "Current epoch = 8\r"
     ]
    },
    {
     "name": "stderr",
     "output_type": "stream",
     "text": [
      "2201it [04:42,  7.79it/s]\n",
      "1it [00:00,  7.66it/s]"
     ]
    },
    {
     "name": "stdout",
     "output_type": "stream",
     "text": [
      "Current epoch = 9\r"
     ]
    },
    {
     "name": "stderr",
     "output_type": "stream",
     "text": [
      "2201it [04:45,  7.71it/s]\n",
      "1it [00:00,  6.60it/s]"
     ]
    },
    {
     "name": "stdout",
     "output_type": "stream",
     "text": [
      "Current epoch = 10\r"
     ]
    },
    {
     "name": "stderr",
     "output_type": "stream",
     "text": [
      "2201it [04:40,  7.84it/s]\n",
      "1it [00:00,  8.08it/s]"
     ]
    },
    {
     "name": "stdout",
     "output_type": "stream",
     "text": [
      "Current epoch = 11\r"
     ]
    },
    {
     "name": "stderr",
     "output_type": "stream",
     "text": [
      "2201it [04:37,  7.94it/s]\n",
      "1it [00:00,  7.88it/s]"
     ]
    },
    {
     "name": "stdout",
     "output_type": "stream",
     "text": [
      "Current epoch = 12\r"
     ]
    },
    {
     "name": "stderr",
     "output_type": "stream",
     "text": [
      "2201it [04:41,  7.83it/s]\n",
      "1it [00:00,  8.22it/s]"
     ]
    },
    {
     "name": "stdout",
     "output_type": "stream",
     "text": [
      "Current epoch = 13\r"
     ]
    },
    {
     "name": "stderr",
     "output_type": "stream",
     "text": [
      "2201it [04:47,  7.66it/s]\n",
      "1it [00:00,  7.32it/s]"
     ]
    },
    {
     "name": "stdout",
     "output_type": "stream",
     "text": [
      "Current epoch = 14\r"
     ]
    },
    {
     "name": "stderr",
     "output_type": "stream",
     "text": [
      "2201it [04:48,  7.63it/s]\n",
      "1it [00:00,  8.15it/s]"
     ]
    },
    {
     "name": "stdout",
     "output_type": "stream",
     "text": [
      "Current epoch = 15\r"
     ]
    },
    {
     "name": "stderr",
     "output_type": "stream",
     "text": [
      "2201it [04:43,  7.77it/s]\n",
      "1it [00:00,  7.77it/s]"
     ]
    },
    {
     "name": "stdout",
     "output_type": "stream",
     "text": [
      "Current epoch = 16\r"
     ]
    },
    {
     "name": "stderr",
     "output_type": "stream",
     "text": [
      "2201it [04:43,  7.77it/s]\n",
      "1it [00:00,  7.43it/s]"
     ]
    },
    {
     "name": "stdout",
     "output_type": "stream",
     "text": [
      "Current epoch = 17\r"
     ]
    },
    {
     "name": "stderr",
     "output_type": "stream",
     "text": [
      "2201it [04:54,  7.47it/s]\n",
      "1it [00:00,  8.09it/s]"
     ]
    },
    {
     "name": "stdout",
     "output_type": "stream",
     "text": [
      "Current epoch = 18\r"
     ]
    },
    {
     "name": "stderr",
     "output_type": "stream",
     "text": [
      "2201it [04:52,  7.52it/s]\n",
      "1it [00:00,  7.83it/s]"
     ]
    },
    {
     "name": "stdout",
     "output_type": "stream",
     "text": [
      "Current epoch = 19\r"
     ]
    },
    {
     "name": "stderr",
     "output_type": "stream",
     "text": [
      "2201it [04:43,  7.76it/s]\n",
      "1it [00:00,  7.60it/s]"
     ]
    },
    {
     "name": "stdout",
     "output_type": "stream",
     "text": [
      "Current epoch = 20\r"
     ]
    },
    {
     "name": "stderr",
     "output_type": "stream",
     "text": [
      "2201it [04:45,  7.71it/s]\n",
      "1it [00:00,  7.60it/s]"
     ]
    },
    {
     "name": "stdout",
     "output_type": "stream",
     "text": [
      "Current epoch = 21\r"
     ]
    },
    {
     "name": "stderr",
     "output_type": "stream",
     "text": [
      "2201it [04:43,  7.76it/s]\n",
      "1it [00:00,  8.57it/s]"
     ]
    },
    {
     "name": "stdout",
     "output_type": "stream",
     "text": [
      "Current epoch = 22\r"
     ]
    },
    {
     "name": "stderr",
     "output_type": "stream",
     "text": [
      "2201it [04:38,  7.91it/s]\n",
      "1it [00:00,  7.71it/s]"
     ]
    },
    {
     "name": "stdout",
     "output_type": "stream",
     "text": [
      "Current epoch = 23\r"
     ]
    },
    {
     "name": "stderr",
     "output_type": "stream",
     "text": [
      "2201it [04:38,  7.90it/s]\n",
      "1it [00:00,  8.02it/s]"
     ]
    },
    {
     "name": "stdout",
     "output_type": "stream",
     "text": [
      "Current epoch = 24\r"
     ]
    },
    {
     "name": "stderr",
     "output_type": "stream",
     "text": [
      "2201it [04:36,  7.97it/s]\n",
      "1it [00:00,  7.54it/s]"
     ]
    },
    {
     "name": "stdout",
     "output_type": "stream",
     "text": [
      "Current epoch = 25\r"
     ]
    },
    {
     "name": "stderr",
     "output_type": "stream",
     "text": [
      "2201it [04:49,  7.61it/s]\n",
      "1it [00:00,  8.08it/s]"
     ]
    },
    {
     "name": "stdout",
     "output_type": "stream",
     "text": [
      "Current epoch = 26\r"
     ]
    },
    {
     "name": "stderr",
     "output_type": "stream",
     "text": [
      "2201it [04:43,  7.77it/s]\n",
      "1it [00:00,  7.60it/s]"
     ]
    },
    {
     "name": "stdout",
     "output_type": "stream",
     "text": [
      "Current epoch = 27\r"
     ]
    },
    {
     "name": "stderr",
     "output_type": "stream",
     "text": [
      "2201it [04:38,  7.91it/s]\n",
      "1it [00:00,  8.15it/s]"
     ]
    },
    {
     "name": "stdout",
     "output_type": "stream",
     "text": [
      "Current epoch = 28\r"
     ]
    },
    {
     "name": "stderr",
     "output_type": "stream",
     "text": [
      "2201it [04:36,  7.96it/s]\n",
      "1it [00:00,  8.15it/s]"
     ]
    },
    {
     "name": "stdout",
     "output_type": "stream",
     "text": [
      "Current epoch = 29\r"
     ]
    },
    {
     "name": "stderr",
     "output_type": "stream",
     "text": [
      "2201it [04:36,  7.97it/s]\n",
      "1it [00:00,  8.28it/s]"
     ]
    },
    {
     "name": "stdout",
     "output_type": "stream",
     "text": [
      "Current epoch = 30\r"
     ]
    },
    {
     "name": "stderr",
     "output_type": "stream",
     "text": [
      "2201it [04:40,  7.84it/s]\n",
      "1it [00:00,  7.71it/s]"
     ]
    },
    {
     "name": "stdout",
     "output_type": "stream",
     "text": [
      "Current epoch = 31\r"
     ]
    },
    {
     "name": "stderr",
     "output_type": "stream",
     "text": [
      "2201it [04:39,  7.86it/s]\n",
      "1it [00:00,  7.96it/s]"
     ]
    },
    {
     "name": "stdout",
     "output_type": "stream",
     "text": [
      "Current epoch = 32\r"
     ]
    },
    {
     "name": "stderr",
     "output_type": "stream",
     "text": [
      "2201it [04:37,  7.94it/s]"
     ]
    },
    {
     "name": "stdout",
     "output_type": "stream",
     "text": [
      "Finished Training\n"
     ]
    },
    {
     "name": "stderr",
     "output_type": "stream",
     "text": [
      "\n"
     ]
    }
   ],
   "source": [
    "writer = SummaryWriter('runs/trajectory_experiment_100_batch_33_epochs_50_track_2_lstm_2_0_drop_acc_gyro')\n",
    "running_loss = 0.0\n",
    "for epoch in range(epochs):  # loop over the dataset multiple times\n",
    "\n",
    "    print(f'Current epoch = {epoch}', end='\\r')\n",
    "    \n",
    "    for i, data in tqdm(enumerate(train_dataloader, 0)):\n",
    "        \n",
    "        # get the inputs; data is a list of [inputs, labels]\n",
    "        X, y = data\n",
    "        \n",
    "        # send X,y to GPU (or CPU if GPU is not availiable)     \n",
    "        X, y = X.to(device), y.to(device)\n",
    "        \n",
    "        # zero the parameter gradients\n",
    "        optimizer.zero_grad()\n",
    "\n",
    "        # forward + backward + optimize\n",
    "        outputs = lstm(X)\n",
    "        loss = my_loss(outputs, y)\n",
    "        loss.backward()\n",
    "        optimizer.step()\n",
    "        running_loss += loss.item()\n",
    "        if i % 500 == 499: # every 500 mini-batches...\n",
    "\n",
    "            # log the running train loss\n",
    "            writer.add_scalar(\n",
    "                'training loss',\n",
    "                running_loss / 500,\n",
    "                epoch * len(train_dataloader) + i\n",
    "            )\n",
    "            running_loss = 0.0\n",
    "            \n",
    "            # log the running test loss\n",
    "            test_loss = calculate_test_error(lstm, test_dataloader)\n",
    "            writer.add_scalar(\n",
    "                'test loss',\n",
    "                test_loss,\n",
    "                epoch * len(train_dataloader) + i\n",
    "            )\n",
    "\n",
    "            \n",
    "#     log a Matplotlib Figure showing the model's prediction on test data\n",
    "#     writer.add_figure(\n",
    "#         'test trajectory',\n",
    "#         plot_test_trajectory(lstm, test_dataloader),\n",
    "#         global_step=epoch * len(train_dataloader) + i\n",
    "#     )\n",
    "            \n",
    "print('Finished Training')"
   ]
  },
  {
   "cell_type": "code",
   "execution_count": 56,
   "id": "5b559e91",
   "metadata": {},
   "outputs": [
    {
     "name": "stderr",
     "output_type": "stream",
     "text": [
      "100%|██████████| 1511/1511 [00:02<00:00, 711.62it/s]\n"
     ]
    },
    {
     "data": {
      "image/png": "[encoded data removed]",
      "text/plain": [
       "<Figure size 1200x800 with 1 Axes>"
      ]
     },
     "metadata": {
      "needs_background": "light"
     },
     "output_type": "display_data"
    }
   ],
   "source": [
    "import numpy as np, matplotlib.pyplot as plt\n",
    "\n",
    "def kek(lstm, test_dataloader):\n",
    "    size = len(test_dataloader.dataset)\n",
    "    mas=np.zeros(shape=(size,2))\n",
    "    num_batches = len(test_dataloader)\n",
    "    test_loss, correct = 0, 0\n",
    "    i = 0\n",
    "    with torch.no_grad():\n",
    "        for X, y in test_dataloader:\n",
    "            X, y = X.to(device), y.to(device)\n",
    "            pred = lstm(X)\n",
    "            mas[i,:] = pred.cpu().numpy()\n",
    "            i+=1\n",
    "    return mas\n",
    "def plot_test_trajectory(d):\n",
    "    y_delta_l = d[:,0]\n",
    "    y_delta_psi = d[:,1]\n",
    "\n",
    "    init_l = np.array([0.0, 0.0])\n",
    "    init_psi = 0.0\n",
    "    cur_psi = init_psi\n",
    "\n",
    "    xy=np.zeros(shape=(y_delta_l.shape[0]+1,2))\n",
    "    xy[0,:] = init_l\n",
    "\n",
    "    for i in range(y_delta_l.shape[0]):\n",
    "        cur_psi = cur_psi + y_delta_psi[i]\n",
    "        xy[i+1,0] = xy[i,0] + y_delta_l[i] * np.cos(cur_psi)\n",
    "        xy[i+1,1] = xy[i,1] - y_delta_l[i] * np.sin(cur_psi)\n",
    "    figure(figsize=(15, 10), dpi=80)\n",
    "    plt.plot(xy[:,0], xy[:,1])\n",
    "\n",
    "test1_target_list = [\"IMU_51.csv\"]\n",
    "test1_features_list = [[\"n_imu51.csv\"]]\n",
    "test1_data = TESNamesDataset(test1_target_list, test1_features_list)\n",
    "test1_dataloader = DataLoader(test1_data, batch_size=1, shuffle=False)\n",
    "# plot_test_trajectory(lstm, test1_dataloader)\n",
    "data = kek(lstm, test1_dataloader)\n",
    "plot_test_trajectory(data)\n",
    "# tr = plot_test_trajectory(lstm, test1_dataloader)\n",
    "# print(len(test1_dataloader.dataset))"
   ]
  },
  {
   "cell_type": "code",
   "execution_count": 70,
   "id": "19fc2156",
   "metadata": {
    "scrolled": true
   },
   "outputs": [
    {
     "name": "stderr",
     "output_type": "stream",
     "text": [
      "100%|██████████| 1162/1162 [00:01<00:00, 871.43it/s]\n"
     ]
    },
    {
     "name": "stdout",
     "output_type": "stream",
     "text": [
      "(1161, 2)\n"
     ]
    },
    {
     "data": {
      "text/plain": [
       "<matplotlib.legend.Legend at 0x21e074b6a00>"
      ]
     },
     "execution_count": 70,
     "metadata": {},
     "output_type": "execute_result"
    },
    {
     "data": {
      "image/png": "[encoded data removed]",
      "text/plain": [
       "<Figure size 1280x1040 with 1 Axes>"
      ]
     },
     "metadata": {
      "needs_background": "light"
     },
     "output_type": "display_data"
    }
   ],
   "source": [
    "from matplotlib.pyplot import figure\n",
    "import numpy as np, matplotlib.pyplot as plt\n",
    "\n",
    "def plot_test_trajectory(lstm, test_dataloader):\n",
    "    size = len(test_dataloader.dataset)\n",
    "    mas=np.zeros(shape=(size,2))\n",
    "    num_batches = len(test_dataloader)\n",
    "    test_loss, correct = 0, 0\n",
    "    i = 0\n",
    "    with torch.no_grad():\n",
    "        for X, y in test_dataloader:\n",
    "            X, y = X.to(device), y.to(device)\n",
    "            pred = lstm(X)\n",
    "            if (pred.shape[0] == 100):\n",
    "                mas[i*100:100*(i+1),:] = pred.cpu().numpy()\n",
    "                i+=1\n",
    "            else:\n",
    "                mas[i*100:,:] = pred.cpu().numpy()\n",
    "    \n",
    "    d = mas\n",
    "    y_delta_l = d[:,0]\n",
    "    y_delta_psi = d[:,1]\n",
    "\n",
    "    init_l = np.array([0, 0])\n",
    "    init_psi = 0\n",
    "    cur_psi = init_psi\n",
    "\n",
    "    xy=np.zeros(shape=(y_delta_l.shape[0]+1,2))\n",
    "    xy[0,:] = init_l\n",
    "\n",
    "    for i in range(y_delta_l.shape[0]):\n",
    "        cur_psi = cur_psi + y_delta_psi[i]\n",
    "        xy[i+1,0] = xy[i,0] + y_delta_l[i] * np.cos(cur_psi)\n",
    "        xy[i+1,1] = xy[i,1] + y_delta_l[i] * np.sin(cur_psi)\n",
    "    return xy\n",
    "\n",
    "test1_target_list = [\"IMU_64.csv\"]\n",
    "test1_features_list = [[\"n_imu64.csv\"]]\n",
    "test1_data = TESNamesDataset(test1_target_list, test1_features_list)\n",
    "test1_dataloader = DataLoader(test1_data, batch_size=batch_size, shuffle=False)\n",
    "tr = plot_test_trajectory(lstm, test1_dataloader)\n",
    "\n",
    "\n",
    "d = pd.read_csv(\"data2/IMU_64.csv\").values\n",
    "print(d.shape)\n",
    "y_delta_l = d[:,0]\n",
    "y_delta_psi = d[:,1]\n",
    "\n",
    "init_l = np.array([0, 0])\n",
    "init_psi = 3.3\n",
    "cur_psi = init_psi\n",
    "\n",
    "xy=np.zeros(shape=(y_delta_l.shape[0]+1,2))\n",
    "xy[0,:] = init_l\n",
    "\n",
    "for i in range(y_delta_l.shape[0]):\n",
    "    cur_psi = cur_psi + y_delta_psi[i]\n",
    "    xy[i+1,0] = xy[i,0] + y_delta_l[i] * np.cos(cur_psi)\n",
    "    xy[i+1,1] = xy[i,1] + y_delta_l[i] * np.sin(cur_psi)\n",
    "\n",
    "figure(figsize=(16, 13), dpi=80)\n",
    "plt.plot(xy[:,0], xy[:,1])\n",
    "plt.plot(tr[:,0], tr[:,1])\n",
    "plt.xlabel('Axis X (m)')\n",
    "plt.ylabel('Axis Y (m)')\n",
    "plt.legend(['Ground Truth','My network', 'IoNET'])"
   ]
  },
  {
   "cell_type": "code",
   "execution_count": null,
   "id": "642f8738",
   "metadata": {},
   "outputs": [],
   "source": []
  },
  {
   "cell_type": "code",
   "execution_count": 17,
   "id": "fffe42e7",
   "metadata": {},
   "outputs": [
    {
     "name": "stdout",
     "output_type": "stream",
     "text": [
      "Model's state_dict:\n",
      "lstm1.weight_ih_l0 \t torch.Size([512, 6])\n",
      "lstm1.weight_hh_l0 \t torch.Size([512, 128])\n",
      "lstm1.bias_ih_l0 \t torch.Size([512])\n",
      "lstm1.bias_hh_l0 \t torch.Size([512])\n",
      "lstm1.weight_ih_l0_reverse \t torch.Size([512, 6])\n",
      "lstm1.weight_hh_l0_reverse \t torch.Size([512, 128])\n",
      "lstm1.bias_ih_l0_reverse \t torch.Size([512])\n",
      "lstm1.bias_hh_l0_reverse \t torch.Size([512])\n",
      "lstm2.weight_ih_l0 \t torch.Size([1024, 256])\n",
      "lstm2.weight_hh_l0 \t torch.Size([1024, 256])\n",
      "lstm2.bias_ih_l0 \t torch.Size([1024])\n",
      "lstm2.bias_hh_l0 \t torch.Size([1024])\n",
      "lstm2.weight_ih_l0_reverse \t torch.Size([1024, 256])\n",
      "lstm2.weight_hh_l0_reverse \t torch.Size([1024, 256])\n",
      "lstm2.bias_ih_l0_reverse \t torch.Size([1024])\n",
      "lstm2.bias_hh_l0_reverse \t torch.Size([1024])\n",
      "fc2.weight \t torch.Size([2, 512])\n",
      "fc2.bias \t torch.Size([2])\n"
     ]
    }
   ],
   "source": [
    "print(\"Model's state_dict:\")\n",
    "for param_tensor in lstm.state_dict():\n",
    "    print(param_tensor, \"\\t\", lstm.state_dict()[param_tensor].size())"
   ]
  },
  {
   "cell_type": "code",
   "execution_count": null,
   "id": "4d46eedb",
   "metadata": {},
   "outputs": [],
   "source": []
  },
  {
   "cell_type": "code",
   "execution_count": null,
   "id": "b91f9295",
   "metadata": {},
   "outputs": [],
   "source": []
  },
  {
   "cell_type": "code",
   "execution_count": null,
   "id": "e38775fd",
   "metadata": {},
   "outputs": [],
   "source": []
  },
  {
   "cell_type": "code",
   "execution_count": null,
   "id": "4fef1af0",
   "metadata": {},
   "outputs": [],
   "source": []
  },
  {
   "cell_type": "code",
   "execution_count": null,
   "id": "d203e34b",
   "metadata": {},
   "outputs": [],
   "source": []
  }
 ],
 "metadata": {
  "kernelspec": {
   "display_name": "Python 3 (ipykernel)",
   "language": "python",
   "name": "python3"
  },
  "language_info": {
   "codemirror_mode": {
    "name": "ipython",
    "version": 3
   },
   "file_extension": ".py",
   "mimetype": "text/x-python",
   "name": "python",
   "nbconvert_exporter": "python",
   "pygments_lexer": "ipython3",
   "version": "3.8.2"
  }
 },
 "nbformat": 4,
 "nbformat_minor": 5
}
